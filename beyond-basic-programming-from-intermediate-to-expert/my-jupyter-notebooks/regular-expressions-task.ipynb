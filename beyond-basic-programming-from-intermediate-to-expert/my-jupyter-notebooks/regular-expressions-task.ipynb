{
 "cells": [
  {
   "cell_type": "code",
   "execution_count": 10,
   "metadata": {},
   "outputs": [
    {
     "name": "stdout",
     "output_type": "stream",
     "text": [
      "Not Found!!\n"
     ]
    }
   ],
   "source": [
    "dummy_url_str_1 = \"https://example.org/some-url.html?first=true\"\n",
    "\n",
    "domain_our_str =  \"[a-z]*\\.[co][or][mg]\"\n",
    "\n",
    "uri_our_str = \"[a-z-]*\\.\"\n",
    "\n",
    "first_our_str = \"[a-z]*\"\n",
    "\n",
    "our_url_str = \"https://\" + domain_our_str + \"/\" + uri_our_str + \".html?first=\" + first_our_str\n",
    "\n",
    "import re\n",
    "match = re.search(our_url_str, dummy_url_str_1)\n",
    "if match:\n",
    "    print(\"Found!!!\")\n",
    "    print( match.group() )\n",
    "else:\n",
    "    print(\"Not Found!!\")"
   ]
  },
  {
   "cell_type": "code",
   "execution_count": null,
   "metadata": {},
   "outputs": [],
   "source": []
  }
 ],
 "metadata": {
  "kernelspec": {
   "display_name": "Python 3",
   "language": "python",
   "name": "python3"
  },
  "language_info": {
   "codemirror_mode": {
    "name": "ipython",
    "version": 3
   },
   "file_extension": ".py",
   "mimetype": "text/x-python",
   "name": "python",
   "nbconvert_exporter": "python",
   "pygments_lexer": "ipython3",
   "version": "3.7.1"
  }
 },
 "nbformat": 4,
 "nbformat_minor": 2
}
