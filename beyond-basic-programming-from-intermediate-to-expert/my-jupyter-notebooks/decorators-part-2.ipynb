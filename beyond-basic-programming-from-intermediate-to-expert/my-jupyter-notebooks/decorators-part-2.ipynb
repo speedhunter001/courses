{
 "cells": [
  {
   "cell_type": "code",
   "execution_count": 51,
   "metadata": {},
   "outputs": [],
   "source": [
    "def memorized_function(f):\n",
    "    mem = {}                   #all shit stays in memory coz we have \n",
    "                               #defined another function so dicttionary \n",
    "                               #stays in memory\n",
    "    \n",
    "    def memorize(n):\n",
    "        if n not in mem:\n",
    "            mem[n] = f(n)\n",
    "        return mem[n]\n",
    "    \n",
    "    return memorize"
   ]
  },
  {
   "cell_type": "code",
   "execution_count": 52,
   "metadata": {},
   "outputs": [],
   "source": [
    "@memorized_function      #this is same as fib = memorized_function(fib)\n",
    "def fib(n):              #u have to define this here now \n",
    "    if n <= 1:\n",
    "        return n\n",
    "    else:\n",
    "        return fib(n-2) + fib(n-1)"
   ]
  },
  {
   "cell_type": "code",
   "execution_count": 53,
   "metadata": {},
   "outputs": [
    {
     "name": "stdout",
     "output_type": "stream",
     "text": [
      "CPU times: user 79 µs, sys: 9 µs, total: 88 µs\n",
      "Wall time: 98.7 µs\n"
     ]
    },
    {
     "data": {
      "text/plain": [
       "102334155"
      ]
     },
     "execution_count": 53,
     "metadata": {},
     "output_type": "execute_result"
    }
   ],
   "source": [
    "%time fib(40)"
   ]
  },
  {
   "cell_type": "code",
   "execution_count": 54,
   "metadata": {},
   "outputs": [],
   "source": [
    "#decorators stupid task for understanding\n",
    "is_logged_in_1 = True           #if its false then at end False will be returned\n",
    "\n",
    "def login_required(f):\n",
    "    \n",
    "    def wrapper():\n",
    "        if is_logged_in_1 is False:\n",
    "            return False\n",
    "        else:\n",
    "            return f()\n",
    "            \n",
    "    return wrapper"
   ]
  },
  {
   "cell_type": "code",
   "execution_count": 55,
   "metadata": {},
   "outputs": [],
   "source": [
    "@login_required      #generate_view = login_required(generate_view)\n",
    "def generate_view(): #generate_view is defined after this\n",
    "    return \"Hello\""
   ]
  },
  {
   "cell_type": "code",
   "execution_count": 56,
   "metadata": {},
   "outputs": [
    {
     "name": "stdout",
     "output_type": "stream",
     "text": [
      "Hello\n"
     ]
    }
   ],
   "source": [
    "print(generate_view())"
   ]
  },
  {
   "cell_type": "code",
   "execution_count": 57,
   "metadata": {},
   "outputs": [],
   "source": [
    "#for understanding\n",
    "\n",
    "#is_logged_in_1 = False           #if its false then at end False will be returned\n",
    "\n",
    "#def login_required(f):\n",
    "    \n",
    "    #def wrapper():\n",
    "        #if is_logged_in_1 is False:\n",
    "            #return False\n",
    "        #else:\n",
    "            #return f()\n",
    "            \n",
    "    #return wrapper"
   ]
  },
  {
   "cell_type": "code",
   "execution_count": 59,
   "metadata": {},
   "outputs": [],
   "source": [
    "#def generate_view():\n",
    "    #return \"Hello\"\n",
    "\n",
    "#generate_view = login_required(generate_view)\n",
    "#print( generate_view())"
   ]
  },
  {
   "cell_type": "code",
   "execution_count": null,
   "metadata": {},
   "outputs": [],
   "source": []
  },
  {
   "cell_type": "code",
   "execution_count": null,
   "metadata": {},
   "outputs": [],
   "source": []
  },
  {
   "cell_type": "code",
   "execution_count": null,
   "metadata": {},
   "outputs": [],
   "source": []
  }
 ],
 "metadata": {
  "kernelspec": {
   "display_name": "Python 3",
   "language": "python",
   "name": "python3"
  },
  "language_info": {
   "codemirror_mode": {
    "name": "ipython",
    "version": 3
   },
   "file_extension": ".py",
   "mimetype": "text/x-python",
   "name": "python",
   "nbconvert_exporter": "python",
   "pygments_lexer": "ipython3",
   "version": "3.7.1"
  }
 },
 "nbformat": 4,
 "nbformat_minor": 2
}
