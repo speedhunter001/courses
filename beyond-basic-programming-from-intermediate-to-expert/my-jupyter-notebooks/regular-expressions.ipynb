{
 "cells": [
  {
   "cell_type": "code",
   "execution_count": 1,
   "metadata": {},
   "outputs": [],
   "source": [
    "import re\n",
    "word = \"hello\"\n",
    "sentence = \"I am Ammar hello\""
   ]
  },
  {
   "cell_type": "code",
   "execution_count": 2,
   "metadata": {},
   "outputs": [
    {
     "data": {
      "text/plain": [
       "'hello'"
      ]
     },
     "execution_count": 2,
     "metadata": {},
     "output_type": "execute_result"
    }
   ],
   "source": [
    "match = re.search(word, sentence)\n",
    "match.group()    #match.group(0) alternate"
   ]
  },
  {
   "cell_type": "code",
   "execution_count": 3,
   "metadata": {},
   "outputs": [
    {
     "data": {
      "text/plain": [
       "'hello'"
      ]
     },
     "execution_count": 3,
     "metadata": {},
     "output_type": "execute_result"
    }
   ],
   "source": [
    "word = \"hello\"\n",
    "sentence = \"hello......\"        \n",
    "match = re.match(word, sentence)    #match fun works when the word is in start only more like match\n",
    "match.group(0)"
   ]
  },
  {
   "cell_type": "code",
   "execution_count": 4,
   "metadata": {},
   "outputs": [
    {
     "name": "stdout",
     "output_type": "stream",
     "text": [
      "found!!\n",
      "Date: 2\n"
     ]
    }
   ],
   "source": [
    "sentence = \"hello bro Date: 25-6-2019\"\n",
    "word = \"......\\d\"    #dots means characters \\d means digit\n",
    "match = re.search(word, sentence)\n",
    "if match:\n",
    "    print(\"found!!\")\n",
    "    print( match.group() )\n",
    "else:\n",
    "    print(\"Not found\")"
   ]
  },
  {
   "cell_type": "code",
   "execution_count": 5,
   "metadata": {},
   "outputs": [
    {
     "name": "stdout",
     "output_type": "stream",
     "text": [
      "found!!\n",
      "Date: 25\n"
     ]
    }
   ],
   "source": [
    "sentence = \"hello bro Date: 25-6-2019\"\n",
    "word = \".....\\s\\d\\d\"    #dots means characters \\s means space \\d means digits \n",
    "match = re.search(word, sentence)\n",
    "if match:\n",
    "    print(\"found!!\")\n",
    "    print( match.group() )\n",
    "else:\n",
    "    print(\"Not found\")"
   ]
  },
  {
   "cell_type": "code",
   "execution_count": 6,
   "metadata": {},
   "outputs": [
    {
     "name": "stdout",
     "output_type": "stream",
     "text": [
      "found!!\n",
      "Date: 25\n"
     ]
    }
   ],
   "source": [
    "sentence = \"hello bro Date: 25-6-2019\"\n",
    "word = \".{5}\\s\\d{2}\"    #braces are for how many so 5 characters and 2 digits\n",
    "match = re.search(word, sentence)\n",
    "if match:\n",
    "    print(\"found!!\")\n",
    "    print( match.group() )\n",
    "else:\n",
    "    print(\"Not found\")"
   ]
  },
  {
   "cell_type": "code",
   "execution_count": 7,
   "metadata": {},
   "outputs": [
    {
     "name": "stdout",
     "output_type": "stream",
     "text": [
      "found!!\n",
      "hello bro Date: 25-6-2019\n"
     ]
    }
   ],
   "source": [
    "sentence = \"hello bro Date: 25-6-2019\"\n",
    "word = \".*\\d{2}\"    # * means no matter how many this thing but output is sentence bcs it also works on \\d{2}\n",
    "match = re.search(word, sentence)\n",
    "if match:\n",
    "    print(\"found!!\")\n",
    "    print( match.group() )\n",
    "else:\n",
    "    print(\"Not found\")"
   ]
  },
  {
   "cell_type": "code",
   "execution_count": 8,
   "metadata": {},
   "outputs": [
    {
     "name": "stdout",
     "output_type": "stream",
     "text": [
      "found!!\n",
      "hello bro Date: 25\n"
     ]
    }
   ],
   "source": [
    "sentence = \"hello bro Date: 25-6-2019\"\n",
    "word = \".*?\\d{2}\"    # ? means don't be greedy meaning just for this thing\n",
    "match = re.search(word, sentence)\n",
    "if match:\n",
    "    print(\"found!!\")\n",
    "    print( match.group() )\n",
    "else:\n",
    "    print(\"Not found\")"
   ]
  },
  {
   "cell_type": "code",
   "execution_count": 9,
   "metadata": {},
   "outputs": [
    {
     "name": "stdout",
     "output_type": "stream",
     "text": [
      "found!!\n",
      "Date: 25\n"
     ]
    }
   ],
   "source": [
    "haystack = \"hello bro Date: 25-6-2019\"\n",
    "\n",
    "date_str = \".{5}\"\n",
    "\n",
    "day_str = \"\\d{2}\"\n",
    "\n",
    "needle = date_str + \"\\s\" + day_str    #now this is called moudlization\n",
    "\n",
    "match = re.search(needle, haystack)\n",
    "if match:\n",
    "    print(\"found!!\")\n",
    "    print( match.group() )\n",
    "else:\n",
    "    print(\"Not found\")"
   ]
  },
  {
   "cell_type": "code",
   "execution_count": 10,
   "metadata": {},
   "outputs": [
    {
     "name": "stdout",
     "output_type": "stream",
     "text": [
      "found!!\n",
      "Date: 25-6-2019 5:12pm\n"
     ]
    }
   ],
   "source": [
    "haystack = \"hello bro Date: 25-6-2019 5:12pm.My email is geniusammar01@gmail.com\"\n",
    "\n",
    "date_str = \".{5}\"\n",
    "\n",
    "full_date_str = \"\\d{2}-\\d-\\d{4}\"\n",
    "\n",
    "time_str = \"\\d:\\d{2}pm\"\n",
    "\n",
    "needle = date_str + \"\\s\" + full_date_str + \"\\s\" + time_str\n",
    "\n",
    "match = re.search(needle, haystack)\n",
    "if match:\n",
    "    print(\"found!!\")\n",
    "    print( match.group() )\n",
    "else:\n",
    "    print(\"Not found\")"
   ]
  },
  {
   "cell_type": "code",
   "execution_count": 11,
   "metadata": {},
   "outputs": [
    {
     "name": "stdout",
     "output_type": "stream",
     "text": [
      "found!!\n",
      "Date: 25-6-2019 5:12am\n"
     ]
    }
   ],
   "source": [
    "haystack = \"hello bro Date: 25-6-2019 5:12am.My email is geniusammar01@gmail.com\"\n",
    "\n",
    "date_str = \".{5}\"\n",
    "\n",
    "full_date_str = \"\\d{2}-\\d-\\d{4}\"\n",
    "\n",
    "time_str = \"\\d:\\d{2}[ap]m\"  # [] brackets are for choice\n",
    "\n",
    "needle = date_str + \"\\s\" + full_date_str + \"\\s\" + time_str\n",
    "\n",
    "match = re.search(needle, haystack)\n",
    "if match:\n",
    "    print(\"found!!\")\n",
    "    print( match.group() )\n",
    "else:\n",
    "    print(\"Not found\")"
   ]
  },
  {
   "cell_type": "code",
   "execution_count": 12,
   "metadata": {},
   "outputs": [
    {
     "name": "stdout",
     "output_type": "stream",
     "text": [
      "found!!\n",
      "Date: 25-6-2019 5:12Pm\n"
     ]
    }
   ],
   "source": [
    "haystack = \"hello bro Date: 25-6-2019 5:12Pm.My email is geniusammar01@gmail.com\"\n",
    "\n",
    "date_str = \".{5}\"\n",
    "\n",
    "full_date_str = \"\\d{2}-\\d-\\d{4}\"\n",
    "\n",
    "time_str = \"\\d:\\d{2}[apAP][mM]\"  # [] brackets are for choice\n",
    "\n",
    "needle = date_str + \"\\s\" + full_date_str + \"\\s\" + time_str\n",
    "\n",
    "match = re.search(needle, haystack)\n",
    "if match:\n",
    "    print(\"found!!\")\n",
    "    print( match.group() )\n",
    "else:\n",
    "    print(\"Not found\")"
   ]
  },
  {
   "cell_type": "code",
   "execution_count": 13,
   "metadata": {},
   "outputs": [
    {
     "name": "stdout",
     "output_type": "stream",
     "text": [
      "found!!\n",
      "hello bro Date: 25-6-2019 5:12am.My email is geniusammar01@gmail.com\n"
     ]
    }
   ],
   "source": [
    "haystack = \"hello bro Date: 25-6-2019 5:12am.My email is geniusammar01@gmail.com\"\n",
    "\n",
    "prefix_str = \".*\" # * does not apply to email bcs of \"\\s in needle\"\n",
    "\n",
    "username_str = \"[a-zA-Z0-9._]*\" #a-z means all characters are in choice from a-z, * in end means that not only for one characters but can be many characters\n",
    "domain_str = \".*\\.com\" # \\. expllicitly means .\n",
    "\n",
    "email_str = username_str + \"@\" + domain_str\n",
    "\n",
    "needle = prefix_str + \"\\s\" + email_str\n",
    "\n",
    "match = re.search(needle, haystack)\n",
    "if match:\n",
    "    print(\"found!!\")\n",
    "    print( match.group() )\n",
    "else:\n",
    "    print(\"Not found\")"
   ]
  },
  {
   "cell_type": "code",
   "execution_count": 14,
   "metadata": {},
   "outputs": [
    {
     "name": "stdout",
     "output_type": "stream",
     "text": [
      "found!!\n",
      "geniusammar01\n"
     ]
    }
   ],
   "source": [
    "haystack = \"hello bro Date: 25-6-2019 5:12am.My email is geniusammar01@gmail.com\"\n",
    "\n",
    "prefix_str = \".*\" # * does not apply to email bcs of \"\\s in needle\"\n",
    "\n",
    "username_str = \"([a-zA-Z0-9._]*)\" #a-z means all characters are in choice from a-z, * in end means that not only for one characters but can be many characters\n",
    "domain_str = \".*\\.com\" # \\. expllicitly means .\n",
    "\n",
    "email_str = username_str + \"@\" + domain_str\n",
    "\n",
    "needle = prefix_str + \"\\s\" + email_str\n",
    "\n",
    "match = re.search(needle, haystack)\n",
    "if match:\n",
    "    print(\"found!!\")\n",
    "    print( match.group(1) )      # notice the 1 here which extracts the word particularized with () first time\n",
    "else:\n",
    "    print(\"Not found\")"
   ]
  },
  {
   "cell_type": "code",
   "execution_count": 15,
   "metadata": {},
   "outputs": [
    {
     "name": "stdout",
     "output_type": "stream",
     "text": [
      "found!!\n",
      "hello bro Date: 25-6-2019 5:12am.My email is geniusammar01@gmail.com\n",
      "geniusammar01@gmail.com\n",
      "geniusammar01\n",
      "gmail.com\n"
     ]
    }
   ],
   "source": [
    "haystack = \"hello bro Date: 25-6-2019 5:12am.My email is geniusammar01@gmail.com\"\n",
    "\n",
    "prefix_str = \".*\" # * does not apply to email bcs of \"\\s in needle\"\n",
    "\n",
    "username_str = \"([a-zA-Z0-9._]*)\" #a-z means all characters are in choice from a-z, * in end means that not only for one characters but can be many characters\n",
    "domain_str = \"(.*\\.com)\" # \\. expllicitly means .\n",
    "\n",
    "email_str = \"(\" + username_str + \"@\" + domain_str + \")\"\n",
    "\n",
    "needle = prefix_str + \"\\s\" + email_str\n",
    "\n",
    "match = re.search(needle, haystack)\n",
    "if match:\n",
    "    print(\"found!!\")\n",
    "    print( match.group(0) )      #meaning the whole needle\n",
    "    print( match.group(1) )      # the email\n",
    "    print( match.group(2) )      # notice the 2 here which extracts the word particularized with () second time\n",
    "    print( match.group(3) )      # 3 here extracts the word particularized with () third time\n",
    "else:\n",
    "    print(\"Not found\")"
   ]
  },
  {
   "cell_type": "code",
   "execution_count": null,
   "metadata": {},
   "outputs": [],
   "source": []
  },
  {
   "cell_type": "code",
   "execution_count": null,
   "metadata": {},
   "outputs": [],
   "source": []
  }
 ],
 "metadata": {
  "kernelspec": {
   "display_name": "Python 3",
   "language": "python",
   "name": "python3"
  },
  "language_info": {
   "codemirror_mode": {
    "name": "ipython",
    "version": 3
   },
   "file_extension": ".py",
   "mimetype": "text/x-python",
   "name": "python",
   "nbconvert_exporter": "python",
   "pygments_lexer": "ipython3",
   "version": "3.7.1"
  }
 },
 "nbformat": 4,
 "nbformat_minor": 2
}
